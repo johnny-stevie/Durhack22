{
 "cells": [
  {
   "cell_type": "code",
   "execution_count": 1,
   "metadata": {},
   "outputs": [],
   "source": [
    "import pandas as pd"
   ]
  },
  {
   "cell_type": "code",
   "execution_count": 17,
   "metadata": {},
   "outputs": [
    {
     "data": {
      "text/plain": [
       "Index(['SensorID', 'Date', 'Time', 'Raw Data'], dtype='object')"
      ]
     },
     "execution_count": 17,
     "metadata": {},
     "output_type": "execute_result"
    }
   ],
   "source": [
    "motion_df = pd.read_csv(\"./vibration.csv\")\n",
    "motion_df.columns"
   ]
  },
  {
   "cell_type": "code",
   "execution_count": 18,
   "metadata": {},
   "outputs": [
    {
     "data": {
      "text/html": [
       "<div>\n",
       "<style scoped>\n",
       "    .dataframe tbody tr th:only-of-type {\n",
       "        vertical-align: middle;\n",
       "    }\n",
       "\n",
       "    .dataframe tbody tr th {\n",
       "        vertical-align: top;\n",
       "    }\n",
       "\n",
       "    .dataframe thead th {\n",
       "        text-align: right;\n",
       "    }\n",
       "</style>\n",
       "<table border=\"1\" class=\"dataframe\">\n",
       "  <thead>\n",
       "    <tr style=\"text-align: right;\">\n",
       "      <th></th>\n",
       "      <th>SensorID</th>\n",
       "      <th>Date</th>\n",
       "      <th>Time</th>\n",
       "      <th>Raw Data</th>\n",
       "    </tr>\n",
       "  </thead>\n",
       "  <tbody>\n",
       "    <tr>\n",
       "      <th>0</th>\n",
       "      <td>814111</td>\n",
       "      <td>11/19/2022</td>\n",
       "      <td>8:10 AM</td>\n",
       "      <td>0.5|0.6|0.5|14|12|14|100|2</td>\n",
       "    </tr>\n",
       "    <tr>\n",
       "      <th>1</th>\n",
       "      <td>814111</td>\n",
       "      <td>11/19/2022</td>\n",
       "      <td>8:00 AM</td>\n",
       "      <td>0.5|0.6|0.5|15|12|15|100|2</td>\n",
       "    </tr>\n",
       "    <tr>\n",
       "      <th>2</th>\n",
       "      <td>814111</td>\n",
       "      <td>11/19/2022</td>\n",
       "      <td>7:50 AM</td>\n",
       "      <td>0.5|0.7|0.6|13|12|14|100|2</td>\n",
       "    </tr>\n",
       "    <tr>\n",
       "      <th>3</th>\n",
       "      <td>814111</td>\n",
       "      <td>11/19/2022</td>\n",
       "      <td>7:40 AM</td>\n",
       "      <td>0.5|0.6|0.5|13|10|12|100|2</td>\n",
       "    </tr>\n",
       "    <tr>\n",
       "      <th>4</th>\n",
       "      <td>814111</td>\n",
       "      <td>11/19/2022</td>\n",
       "      <td>7:30 AM</td>\n",
       "      <td>0.5|0.7|0.5|12|14|14|100|2</td>\n",
       "    </tr>\n",
       "  </tbody>\n",
       "</table>\n",
       "</div>"
      ],
      "text/plain": [
       "   SensorID        Date     Time                    Raw Data\n",
       "0    814111  11/19/2022  8:10 AM  0.5|0.6|0.5|14|12|14|100|2\n",
       "1    814111  11/19/2022  8:00 AM  0.5|0.6|0.5|15|12|15|100|2\n",
       "2    814111  11/19/2022  7:50 AM  0.5|0.7|0.6|13|12|14|100|2\n",
       "3    814111  11/19/2022  7:40 AM  0.5|0.6|0.5|13|10|12|100|2\n",
       "4    814111  11/19/2022  7:30 AM  0.5|0.7|0.5|12|14|14|100|2"
      ]
     },
     "execution_count": 18,
     "metadata": {},
     "output_type": "execute_result"
    }
   ],
   "source": [
    "motion_df.interpolate(method=\"linear\")\n",
    "motion_df.head()\n"
   ]
  },
  {
   "cell_type": "code",
   "execution_count": 11,
   "metadata": {},
   "outputs": [],
   "source": [
    "\n"
   ]
  },
  {
   "cell_type": "code",
   "execution_count": null,
   "metadata": {},
   "outputs": [],
   "source": []
  }
 ],
 "metadata": {
  "kernelspec": {
   "display_name": "Python 3 (ipykernel)",
   "language": "python",
   "name": "python3"
  },
  "language_info": {
   "codemirror_mode": {
    "name": "ipython",
    "version": 3
   },
   "file_extension": ".py",
   "mimetype": "text/x-python",
   "name": "python",
   "nbconvert_exporter": "python",
   "pygments_lexer": "ipython3",
   "version": "3.9.7"
  }
 },
 "nbformat": 4,
 "nbformat_minor": 2
}
